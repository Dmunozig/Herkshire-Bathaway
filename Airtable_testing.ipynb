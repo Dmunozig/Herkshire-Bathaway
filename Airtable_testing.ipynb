{
 "cells": [
  {
   "cell_type": "code",
   "execution_count": 104,
   "id": "43ed156e",
   "metadata": {},
   "outputs": [],
   "source": [
    "from web3 import Web3\n",
    "import requests\n",
    "import pandas as pd\n",
    "import json\n",
    "\n",
    "## setup the eth node (if infura plug in project id)\n",
    "dfweb3 = Web3(Web3.HTTPProvider('https://mainnet.infura.io/v3/d84606165772420ea3b28a05ff5b0d97'))\n",
    "\n",
    "## query airtable for data\n",
    "airtable_api = 'key8uWPrOLIaKd8ri'  # update from testing API\n",
    "baseid = 'app5ZlqY2U36bO2oK'\n",
    "\n",
    "tableid_keys = 'tbl2Vm1bpHmNOEafe'\n",
    "tableid_eth = 'tbll8IkER4g9sUPzf'\n",
    "url_keys = f\"https://api.airtable.com/v0/{baseid}/{tableid_keys}\"\n",
    "url_eth = f\"https://api.airtable.com/v0/{baseid}/{tableid_eth}\"\n",
    "\n",
    "headers = {'Authorization': f'Bearer {airtable_api}'}\n",
    "\n",
    "response_eth = requests.request(\"GET\", url_eth, headers=headers).json()['records']\n",
    "response_keys = requests.request(\"GET\", url_keys, headers=headers).json()['records']\n",
    "\n",
    "# turn response into df\n",
    "airtable_rows = [] \n",
    "airtable_index = []\n",
    "for record in response_eth:\n",
    "  airtable_rows.append(record['fields'])\n",
    "  airtable_index.append(record['id'])\n",
    "df_eth = pd.DataFrame(airtable_rows, index=airtable_index)\n",
    "\n",
    "airtable_rows = [] \n",
    "airtable_index = []\n",
    "for record in response_keys:\n",
    "  airtable_rows.append(record['fields'])\n",
    "  airtable_index.append(record['id'])\n",
    "df_keys = pd.DataFrame(airtable_rows, index=airtable_index)"
   ]
  },
  {
   "cell_type": "code",
   "execution_count": 82,
   "id": "73b8a8df",
   "metadata": {},
   "outputs": [],
   "source": [
    "# to have less probability of same FromWallet getting hit in a row + bigger transactions first\n",
    "df_eth = df_eth.sort_values(by=\"ethAmount\", ascending=False).sort_values(by=\"ToWalletAddress\")"
   ]
  },
  {
   "cell_type": "code",
   "execution_count": 105,
   "id": "3426bfcb",
   "metadata": {},
   "outputs": [
    {
     "data": {
      "text/html": [
       "<div>\n",
       "<style scoped>\n",
       "    .dataframe tbody tr th:only-of-type {\n",
       "        vertical-align: middle;\n",
       "    }\n",
       "\n",
       "    .dataframe tbody tr th {\n",
       "        vertical-align: top;\n",
       "    }\n",
       "\n",
       "    .dataframe thead th {\n",
       "        text-align: right;\n",
       "    }\n",
       "</style>\n",
       "<table border=\"1\" class=\"dataframe\">\n",
       "  <thead>\n",
       "    <tr style=\"text-align: right;\">\n",
       "      <th></th>\n",
       "      <th>ethAmount</th>\n",
       "      <th>ToWalletAddress</th>\n",
       "      <th>FromWalletAddress</th>\n",
       "      <th>Status</th>\n",
       "    </tr>\n",
       "  </thead>\n",
       "  <tbody>\n",
       "    <tr>\n",
       "      <th>rec3qO82V3LJXh2HP</th>\n",
       "      <td>0.002</td>\n",
       "      <td>0x6796f099A019CC6084D3B52284D40823fc09D730</td>\n",
       "      <td>0x3333333</td>\n",
       "      <td>NaN</td>\n",
       "    </tr>\n",
       "    <tr>\n",
       "      <th>recMLjvT7GS9lKdmg</th>\n",
       "      <td>0.001</td>\n",
       "      <td>0x6796f099A019CC6084D3B52284D40823fc09D730</td>\n",
       "      <td>0x344ED1Bac25fdB1d5F4079790AE486FEc524580a</td>\n",
       "      <td>NaN</td>\n",
       "    </tr>\n",
       "    <tr>\n",
       "      <th>recPP70qf0ttUeAeN</th>\n",
       "      <td>0.002</td>\n",
       "      <td>0x6796f099A019CC6084D3B52284D40823fc09D730</td>\n",
       "      <td>0x344ED1Bac25fdB1d5F4079790AE486FEc524580a</td>\n",
       "      <td>NaN</td>\n",
       "    </tr>\n",
       "    <tr>\n",
       "      <th>recqRn45VwjlMXkW8</th>\n",
       "      <td>300</td>\n",
       "      <td>0x6796f099A019CC6084D3B52284D40823fc09D730</td>\n",
       "      <td>0x344ED1Bac25fdB1d5F4079790AE486FEc524580a</td>\n",
       "      <td>FAILED</td>\n",
       "    </tr>\n",
       "  </tbody>\n",
       "</table>\n",
       "</div>"
      ],
      "text/plain": [
       "                  ethAmount                             ToWalletAddress  \\\n",
       "rec3qO82V3LJXh2HP     0.002  0x6796f099A019CC6084D3B52284D40823fc09D730   \n",
       "recMLjvT7GS9lKdmg     0.001  0x6796f099A019CC6084D3B52284D40823fc09D730   \n",
       "recPP70qf0ttUeAeN     0.002  0x6796f099A019CC6084D3B52284D40823fc09D730   \n",
       "recqRn45VwjlMXkW8       300  0x6796f099A019CC6084D3B52284D40823fc09D730   \n",
       "\n",
       "                                            FromWalletAddress  Status  \n",
       "rec3qO82V3LJXh2HP                                   0x3333333     NaN  \n",
       "recMLjvT7GS9lKdmg  0x344ED1Bac25fdB1d5F4079790AE486FEc524580a     NaN  \n",
       "recPP70qf0ttUeAeN  0x344ED1Bac25fdB1d5F4079790AE486FEc524580a     NaN  \n",
       "recqRn45VwjlMXkW8  0x344ED1Bac25fdB1d5F4079790AE486FEc524580a  FAILED  "
      ]
     },
     "execution_count": 105,
     "metadata": {},
     "output_type": "execute_result"
    }
   ],
   "source": [
    "df_eth"
   ]
  },
  {
   "cell_type": "code",
   "execution_count": 84,
   "id": "fede1d02",
   "metadata": {
    "scrolled": true
   },
   "outputs": [
    {
     "data": {
      "text/html": [
       "<div>\n",
       "<style scoped>\n",
       "    .dataframe tbody tr th:only-of-type {\n",
       "        vertical-align: middle;\n",
       "    }\n",
       "\n",
       "    .dataframe tbody tr th {\n",
       "        vertical-align: top;\n",
       "    }\n",
       "\n",
       "    .dataframe thead th {\n",
       "        text-align: right;\n",
       "    }\n",
       "</style>\n",
       "<table border=\"1\" class=\"dataframe\">\n",
       "  <thead>\n",
       "    <tr style=\"text-align: right;\">\n",
       "      <th></th>\n",
       "      <th>WalletAddress</th>\n",
       "      <th>PrivateKey</th>\n",
       "    </tr>\n",
       "  </thead>\n",
       "  <tbody>\n",
       "    <tr>\n",
       "      <th>recSO9JPrp7d6bRqK</th>\n",
       "      <td>0x344ED1Bac25fdB1d5F4079790AE486FEc524580a</td>\n",
       "      <td>597b5a3feb884ca6f69cf7d84999999999</td>\n",
       "    </tr>\n",
       "    <tr>\n",
       "      <th>rectbmPugBPrGoBlB</th>\n",
       "      <td>0x344ED1Bac25fdB1d5F4079790AE486FEc524580a</td>\n",
       "      <td>597b5a3feb884ca6f69cf7d8496a1c62acba5fa8692f25...</td>\n",
       "    </tr>\n",
       "  </tbody>\n",
       "</table>\n",
       "</div>"
      ],
      "text/plain": [
       "                                                WalletAddress  \\\n",
       "recSO9JPrp7d6bRqK  0x344ED1Bac25fdB1d5F4079790AE486FEc524580a   \n",
       "rectbmPugBPrGoBlB  0x344ED1Bac25fdB1d5F4079790AE486FEc524580a   \n",
       "\n",
       "                                                          PrivateKey  \n",
       "recSO9JPrp7d6bRqK                 597b5a3feb884ca6f69cf7d84999999999  \n",
       "rectbmPugBPrGoBlB  597b5a3feb884ca6f69cf7d8496a1c62acba5fa8692f25...  "
      ]
     },
     "execution_count": 84,
     "metadata": {},
     "output_type": "execute_result"
    }
   ],
   "source": [
    "df_keys"
   ]
  },
  {
   "cell_type": "code",
   "execution_count": 66,
   "id": "19f82bc8",
   "metadata": {},
   "outputs": [
    {
     "name": "stdout",
     "output_type": "stream",
     "text": [
      "300\n",
      "0.002\n",
      "0.002\n",
      "0.001\n"
     ]
    }
   ],
   "source": [
    "# Running available transactions first and marking those blocked as \"failed\" to be checked later\n",
    "for index, row in df_eth.iterrows():    \n",
    "    eth = row[\"ethAmount\"]\n",
    "    to_w = row[\"ToWalletAddress\"]\n",
    "    from_w = row[\"FromWalletAddress\"]\n",
    "    nonce = web3.eth.getTransactionCount(from_w)\n",
    "    \n",
    "    try:\n",
    "        #locate private key\n",
    "        private_key = ''\n",
    "        for index, row in df_keys.iterrows():\n",
    "            if row['WalletAddress'] == from_w:\n",
    "                private_key = row['PrivateKey']\n",
    "            else:\n",
    "                continue\n",
    "        \n",
    "        ## get gas and gas price\n",
    "        gas_price = web3.eth.gasPrice / 10**9 # turn into gwei\n",
    "        gas = web3.eth.estimateGas({\n",
    "            \"from\": from_w,\n",
    "            \"nonce\": nonce,\n",
    "            \"to\": to_w,\n",
    "            \"value\": 2  # convert to 'round(amount)' for more dynamic gas\n",
    "            })\n",
    "\n",
    "        #build a transaction in a dictionary\n",
    "        tx = {\n",
    "            'nonce': nonce,\n",
    "            'to': to_w,\n",
    "            'value': web3.toWei(eth, 'ether'),  # Ether can be split into 10^18 Wei\n",
    "            'gas': gas,  # amount of gas\n",
    "            'gasPrice': web3.toWei(gas_price, 'gwei')  # gas price updated\n",
    "            }\n",
    "\n",
    "        #sign the transaction with private key\n",
    "        signed_tx = web3.eth.account.sign_transaction(tx, private_key)\n",
    "\n",
    "        #send transaction to the eth node\n",
    "        tx_hash = web3.eth.sendRawTransaction(signed_tx.rawTransaction)\n",
    "\n",
    "        #get transaction hash\n",
    "        print(\"Completed \" + web3.toHex(tx_hash) + \" tx for \" + eth + \"eth\")\n",
    "        \n",
    "        #PATCH into airtable the hash of successful transaction into status column\n",
    "        record_id = index\n",
    "        record_url = url_eth + \"/\" + record_id\n",
    "        headers = {'Authorization': f'Bearer {airtable_api}', \"Content-type\": \"application/json\"}\n",
    "\n",
    "        upload_data = {\"Status\" : tx_hash}\n",
    "        upload_dict = {\"fields\" : upload_data}\n",
    "        upload_json = json.dumps(upload_dict)\n",
    "        response_patch = requests.patch(record_url, data=upload_json, headers=headers)\n",
    "        \n",
    "    except: \n",
    "        #PATCH into airtable a \"FAILED\" into status column\n",
    "        record_id = index\n",
    "        record_url = url_eth + \"/\" + record_id\n",
    "        headers = {'Authorization': f'Bearer {airtable_api}', \"Content-type\": \"application/json\"}\n",
    "\n",
    "        upload_data = {\"Status\" : \"FAILED\"}\n",
    "        upload_dict = {\"fields\" : upload_data}\n",
    "        upload_json = json.dumps(upload_dict)\n",
    "        response_patch = requests.patch(record_url, data=upload_json, headers=headers)"
   ]
  },
  {
   "cell_type": "code",
   "execution_count": 86,
   "id": "eebc173b",
   "metadata": {},
   "outputs": [
    {
     "name": "stdout",
     "output_type": "stream",
     "text": [
      "recqRn45VwjlMXkW8\n",
      "rec3qO82V3LJXh2HP\n",
      "recPP70qf0ttUeAeN\n",
      "recMLjvT7GS9lKdmg\n"
     ]
    }
   ],
   "source": [
    "for index, row in df_eth.iterrows():\n",
    "    print(index)"
   ]
  },
  {
   "cell_type": "code",
   "execution_count": 103,
   "id": "9ebe086d",
   "metadata": {},
   "outputs": [
    {
     "name": "stdout",
     "output_type": "stream",
     "text": [
      "{'fields': {'Status': 'FAILED'}}\n"
     ]
    },
    {
     "data": {
      "text/plain": [
       "{'id': 'recqRn45VwjlMXkW8',\n",
       " 'createdTime': '2022-10-11T14:20:11.000Z',\n",
       " 'fields': {'Status': 'FAILED',\n",
       "  'ethAmount': '300',\n",
       "  'ToWalletAddress': '0x6796f099A019CC6084D3B52284D40823fc09D730',\n",
       "  'FromWalletAddress': '0x344ED1Bac25fdB1d5F4079790AE486FEc524580a'}}"
      ]
     },
     "execution_count": 103,
     "metadata": {},
     "output_type": "execute_result"
    }
   ],
   "source": [
    "import json\n",
    "# Patch testing\n",
    "# URL needs to point towards the specific record we are updating\n",
    "url_eth = f\"https://api.airtable.com/v0/{baseid}/{tableid_eth}\"\n",
    "record_id = \"recqRn45VwjlMXkW8\"\n",
    "record_url = url_eth + \"/\" + record_id\n",
    "headers = {'Authorization': f'Bearer {airtable_api}', \"Content-type\": \"application/json\"}\n",
    "\n",
    "upload_data = {\"Status\" : \"FAILED\"}\n",
    "upload_dict = {\"fields\" : upload_data}\n",
    "upload_json = json.dumps(upload_dict)\n",
    "response_patch = requests.patch(record_url, data=upload_json, headers=headers)\n",
    "print(upload_dict)\n",
    "response_patch.json()"
   ]
  },
  {
   "cell_type": "code",
   "execution_count": 88,
   "id": "59b45577",
   "metadata": {},
   "outputs": [
    {
     "data": {
      "text/plain": [
       "ethAmount            object\n",
       "ToWalletAddress      object\n",
       "FromWalletAddress    object\n",
       "dtype: object"
      ]
     },
     "execution_count": 88,
     "metadata": {},
     "output_type": "execute_result"
    }
   ],
   "source": [
    "df_eth.dtypes"
   ]
  },
  {
   "cell_type": "code",
   "execution_count": 108,
   "id": "1a8c82ca",
   "metadata": {},
   "outputs": [
    {
     "data": {
      "text/plain": [
       "rec3qO82V3LJXh2HP    True\n",
       "recMLjvT7GS9lKdmg    True\n",
       "recPP70qf0ttUeAeN    True\n",
       "recqRn45VwjlMXkW8    True\n",
       "Name: ToWalletAddress, dtype: bool"
      ]
     },
     "execution_count": 108,
     "metadata": {},
     "output_type": "execute_result"
    }
   ],
   "source": [
    "df_eth[\"ToWalletAddress\"] == \"0x6796f099A019CC6084D3B52284D40823fc09D730\""
   ]
  },
  {
   "cell_type": "code",
   "execution_count": 109,
   "id": "8f4778c7",
   "metadata": {},
   "outputs": [
    {
     "data": {
      "text/html": [
       "<div>\n",
       "<style scoped>\n",
       "    .dataframe tbody tr th:only-of-type {\n",
       "        vertical-align: middle;\n",
       "    }\n",
       "\n",
       "    .dataframe tbody tr th {\n",
       "        vertical-align: top;\n",
       "    }\n",
       "\n",
       "    .dataframe thead th {\n",
       "        text-align: right;\n",
       "    }\n",
       "</style>\n",
       "<table border=\"1\" class=\"dataframe\">\n",
       "  <thead>\n",
       "    <tr style=\"text-align: right;\">\n",
       "      <th></th>\n",
       "      <th>ethAmount</th>\n",
       "      <th>ToWalletAddress</th>\n",
       "      <th>FromWalletAddress</th>\n",
       "      <th>Status</th>\n",
       "    </tr>\n",
       "  </thead>\n",
       "  <tbody>\n",
       "    <tr>\n",
       "      <th>rec3qO82V3LJXh2HP</th>\n",
       "      <td>0.002</td>\n",
       "      <td>0x6796f099A019CC6084D3B52284D40823fc09D730</td>\n",
       "      <td>0x3333333</td>\n",
       "      <td>NaN</td>\n",
       "    </tr>\n",
       "    <tr>\n",
       "      <th>recMLjvT7GS9lKdmg</th>\n",
       "      <td>0.001</td>\n",
       "      <td>0x6796f099A019CC6084D3B52284D40823fc09D730</td>\n",
       "      <td>0x344ED1Bac25fdB1d5F4079790AE486FEc524580a</td>\n",
       "      <td>NaN</td>\n",
       "    </tr>\n",
       "    <tr>\n",
       "      <th>recPP70qf0ttUeAeN</th>\n",
       "      <td>0.002</td>\n",
       "      <td>0x6796f099A019CC6084D3B52284D40823fc09D730</td>\n",
       "      <td>0x344ED1Bac25fdB1d5F4079790AE486FEc524580a</td>\n",
       "      <td>NaN</td>\n",
       "    </tr>\n",
       "    <tr>\n",
       "      <th>recqRn45VwjlMXkW8</th>\n",
       "      <td>300</td>\n",
       "      <td>0x6796f099A019CC6084D3B52284D40823fc09D730</td>\n",
       "      <td>0x344ED1Bac25fdB1d5F4079790AE486FEc524580a</td>\n",
       "      <td>FAILED</td>\n",
       "    </tr>\n",
       "  </tbody>\n",
       "</table>\n",
       "</div>"
      ],
      "text/plain": [
       "                  ethAmount                             ToWalletAddress  \\\n",
       "rec3qO82V3LJXh2HP     0.002  0x6796f099A019CC6084D3B52284D40823fc09D730   \n",
       "recMLjvT7GS9lKdmg     0.001  0x6796f099A019CC6084D3B52284D40823fc09D730   \n",
       "recPP70qf0ttUeAeN     0.002  0x6796f099A019CC6084D3B52284D40823fc09D730   \n",
       "recqRn45VwjlMXkW8       300  0x6796f099A019CC6084D3B52284D40823fc09D730   \n",
       "\n",
       "                                            FromWalletAddress  Status  \n",
       "rec3qO82V3LJXh2HP                                   0x3333333     NaN  \n",
       "recMLjvT7GS9lKdmg  0x344ED1Bac25fdB1d5F4079790AE486FEc524580a     NaN  \n",
       "recPP70qf0ttUeAeN  0x344ED1Bac25fdB1d5F4079790AE486FEc524580a     NaN  \n",
       "recqRn45VwjlMXkW8  0x344ED1Bac25fdB1d5F4079790AE486FEc524580a  FAILED  "
      ]
     },
     "execution_count": 109,
     "metadata": {},
     "output_type": "execute_result"
    }
   ],
   "source": [
    "df_eth[df_eth[\"ToWalletAddress\"] == \"0x6796f099A019CC6084D3B52284D40823fc09D730\"]"
   ]
  },
  {
   "cell_type": "code",
   "execution_count": 106,
   "id": "acd3233c",
   "metadata": {},
   "outputs": [
    {
     "data": {
      "text/html": [
       "<div>\n",
       "<style scoped>\n",
       "    .dataframe tbody tr th:only-of-type {\n",
       "        vertical-align: middle;\n",
       "    }\n",
       "\n",
       "    .dataframe tbody tr th {\n",
       "        vertical-align: top;\n",
       "    }\n",
       "\n",
       "    .dataframe thead th {\n",
       "        text-align: right;\n",
       "    }\n",
       "</style>\n",
       "<table border=\"1\" class=\"dataframe\">\n",
       "  <thead>\n",
       "    <tr style=\"text-align: right;\">\n",
       "      <th></th>\n",
       "      <th>ethAmount</th>\n",
       "      <th>ToWalletAddress</th>\n",
       "      <th>FromWalletAddress</th>\n",
       "      <th>Status</th>\n",
       "    </tr>\n",
       "  </thead>\n",
       "  <tbody>\n",
       "    <tr>\n",
       "      <th>recqRn45VwjlMXkW8</th>\n",
       "      <td>300</td>\n",
       "      <td>0x6796f099A019CC6084D3B52284D40823fc09D730</td>\n",
       "      <td>0x344ED1Bac25fdB1d5F4079790AE486FEc524580a</td>\n",
       "      <td>FAILED</td>\n",
       "    </tr>\n",
       "  </tbody>\n",
       "</table>\n",
       "</div>"
      ],
      "text/plain": [
       "                  ethAmount                             ToWalletAddress  \\\n",
       "recqRn45VwjlMXkW8       300  0x6796f099A019CC6084D3B52284D40823fc09D730   \n",
       "\n",
       "                                            FromWalletAddress  Status  \n",
       "recqRn45VwjlMXkW8  0x344ED1Bac25fdB1d5F4079790AE486FEc524580a  FAILED  "
      ]
     },
     "execution_count": 106,
     "metadata": {},
     "output_type": "execute_result"
    }
   ],
   "source": [
    "df_eth[df_eth[\"Status\"] == \"FAILED\"]"
   ]
  },
  {
   "cell_type": "code",
   "execution_count": 118,
   "id": "44730cf0",
   "metadata": {},
   "outputs": [
    {
     "data": {
      "text/plain": [
       "0.5190084034894882"
      ]
     },
     "execution_count": 118,
     "metadata": {},
     "output_type": "execute_result"
    }
   ],
   "source": [
    "# Testing Etherscan API\n",
    "# Returns the Ether balance of a given address.\n",
    "from_w = \"0x344ED1Bac25fdB1d5F4079790AE486FEc524580a\"\n",
    "url_escan = \"https://api.etherscan.io/api\"\n",
    "escan_api = \"KI6E261EI7Z12KNUIAY35S7JMYAC8EMD1B\"\n",
    "\n",
    "# eth response in wei\n",
    "params = {\"module\":\"account\", \"action\":\"balance\", \"address\":from_w, \"tag\":\"latest\", \"apikey\":escan_api}\n",
    "\n",
    "int(requests.get(url_escan, params=params).json()['result'])/ 10**18"
   ]
  },
  {
   "cell_type": "code",
   "execution_count": 107,
   "id": "6860b98b",
   "metadata": {},
   "outputs": [
    {
     "ename": "SyntaxError",
     "evalue": "unexpected EOF while parsing (1806442427.py, line 56)",
     "output_type": "error",
     "traceback": [
      "\u001b[0;36m  Input \u001b[0;32mIn [107]\u001b[0;36m\u001b[0m\n\u001b[0;31m    #CAN WE ADD A \"NOTES\" COLUMN WHERE WE CAN NOT IF FINAL FAILURE IS DUE TO LACK OF FUNDS OR OTHER?\u001b[0m\n\u001b[0m                                                                                                    ^\u001b[0m\n\u001b[0;31mSyntaxError\u001b[0m\u001b[0;31m:\u001b[0m unexpected EOF while parsing\n"
     ]
    }
   ],
   "source": [
    "# Running through \"FAILED\" transaction and checking ETHERSCAN for issues\n",
    "\n",
    "# Pandas filter df_eth for failed\n",
    "df_failed = df_eth[df_eth[\"Status\"] == \"FAILED\"]\n",
    "\n",
    "for index, row in df_failed.iterrows():\n",
    "    eth = row[\"ethAmount\"]\n",
    "    to_w = row[\"ToWalletAddress\"]\n",
    "    from_w = row[\"FromWalletAddress\"]\n",
    "    nonce = web3.eth.getTransactionCount(from_w)\n",
    "    \n",
    "    try:\n",
    "        #locate private key \n",
    "        private_key = ''\n",
    "        for index, row in df_keys.iterrows():\n",
    "            if row['WalletAddress'] == from_w:\n",
    "                private_key = row['PrivateKey']\n",
    "            else:\n",
    "                continue\n",
    "        \n",
    "        ## get gas and gas price\n",
    "        gas_price = web3.eth.gasPrice / 10**9 # turn into gwei\n",
    "        gas = web3.eth.estimateGas({\n",
    "            \"from\": from_w,\n",
    "            \"nonce\": nonce,\n",
    "            \"to\": to_w,\n",
    "            \"value\": 2  # convert to 'round(amount)' for more dynamic gas\n",
    "            })\n",
    "\n",
    "        #build a transaction in a dictionary\n",
    "        tx = {\n",
    "            'nonce': nonce,\n",
    "            'to': to_w,\n",
    "            'value': web3.toWei(eth, 'ether'),  # Ether can be split into 10^18 Wei\n",
    "            'gas': gas,  # amount of gas\n",
    "            'gasPrice': web3.toWei(gas_price, 'gwei')  # gas price updated\n",
    "            }\n",
    "\n",
    "        #sign the transaction with private key\n",
    "        signed_tx = web3.eth.account.sign_transaction(tx, private_key)\n",
    "\n",
    "        #send transaction to the eth node\n",
    "        tx_hash = web3.eth.sendRawTransaction(signed_tx.rawTransaction)\n",
    "\n",
    "        #get transaction hash\n",
    "        print(\"Completed \" + web3.toHex(tx_hash) + \" tx for \" + eth + \"eth\")\n",
    "        \n",
    "        #PATCH into airtable the hash of successful transaction into status column\n",
    "        record_id = index\n",
    "        record_url = url_eth + \"/\" + record_id\n",
    "        headers = {'Authorization': f'Bearer {airtable_api}', \"Content-type\": \"application/json\"}\n",
    "\n",
    "        upload_data = {\"Status\" : tx_hash}\n",
    "        upload_dict = {\"fields\" : upload_data}\n",
    "        upload_json = json.dumps(upload_dict)\n",
    "        response_patch = requests.patch(record_url, data=upload_json, headers=headers)\n",
    "        \n",
    "    except:  \n",
    "        # Check if wallet funds are too low for transaction + patch that airtable\n",
    "        url_escan = \"https://api.etherscan.io/api\"\n",
    "        escan_api = \"KI6E261EI7Z12KNUIAY35S7JMYAC8EMD1B\"\n",
    "        params = {\"module\":\"account\", \"action\":\"balance\", \"address\":from_w, \"tag\":\"latest\", \"apikey\":escan_api}\n",
    "        funds = int(requests.get(url_escan, params=params).json()['result'])/ 10**18 # eth response in wei\n",
    "        if funds < eth:\n",
    "            #PATCH into \"Failed\" column the lack of funds\n",
    "            record_id = index\n",
    "            record_url = url_eth + \"/\" + record_id\n",
    "            headers = {'Authorization': f'Bearer {airtable_api}', \"Content-type\": \"application/json\"}\n",
    "\n",
    "            upload_data = {\"Status\" : \"LOW FUNDS\"}\n",
    "            upload_dict = {\"fields\" : upload_data}\n",
    "            upload_json = json.dumps(upload_dict)\n",
    "            response_patch = requests.patch(record_url, data=upload_json, headers=headers)\n",
    "            \n",
    "        # Next reason should be a pending transaction so make code wait 1m and try again transaction\n",
    "        "
   ]
  },
  {
   "cell_type": "code",
   "execution_count": null,
   "id": "2063c936",
   "metadata": {},
   "outputs": [],
   "source": [
    "import time\n",
    "\n",
    "while True:\n",
    "  localtime = time.localtime()\n",
    "  result = time.strftime(\"%I:%M:%S %p\", localtime)\n",
    "  print(result)\n",
    "  time.sleep(1)"
   ]
  },
  {
   "cell_type": "code",
   "execution_count": 119,
   "id": "2469fec4",
   "metadata": {},
   "outputs": [],
   "source": [
    "# TEST\n",
    "# Create new accounts on metamask and send them fake eth https://faucet.paradigm.xyz/\n",
    "# Need to check etherscan test network also (how to query it)"
   ]
  },
  {
   "cell_type": "code",
   "execution_count": null,
   "id": "1db1f796",
   "metadata": {},
   "outputs": [],
   "source": []
  }
 ],
 "metadata": {
  "kernelspec": {
   "display_name": "Python 3 (ipykernel)",
   "language": "python",
   "name": "python3"
  },
  "language_info": {
   "codemirror_mode": {
    "name": "ipython",
    "version": 3
   },
   "file_extension": ".py",
   "mimetype": "text/x-python",
   "name": "python",
   "nbconvert_exporter": "python",
   "pygments_lexer": "ipython3",
   "version": "3.8.9"
  }
 },
 "nbformat": 4,
 "nbformat_minor": 5
}
